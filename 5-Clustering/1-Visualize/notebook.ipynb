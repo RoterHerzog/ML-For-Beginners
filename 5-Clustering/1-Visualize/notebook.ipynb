{
 "cells": [
  {
   "cell_type": "markdown",
   "metadata": {},
   "source": [
    "# Nigerian Music scraped from Spotify - an analysis"
   ]
  },
  {
   "cell_type": "code",
   "execution_count": 1,
   "metadata": {},
   "outputs": [
    {
     "name": "stdout",
     "output_type": "stream",
     "text": [
      "     artist_top_genre  popularity  danceability  acousticness  loudness  \\\n",
      "0                   4          48         0.666        0.8510    -6.699   \n",
      "1                   2          30         0.710        0.0822    -5.640   \n",
      "2                  13          40         0.836        0.2720    -7.127   \n",
      "3                  15          14         0.894        0.7980    -4.961   \n",
      "4                   2          25         0.702        0.1160    -6.044   \n",
      "..                ...         ...           ...           ...       ...   \n",
      "525                 0          10         0.735        0.6320    -2.582   \n",
      "526                 0           0         0.602        0.1770    -6.183   \n",
      "527                 0           0         0.729        0.2380    -3.942   \n",
      "528                 0           0         0.809        0.0490    -6.547   \n",
      "529                 0           0         0.816        0.1140    -2.204   \n",
      "\n",
      "     energy  \n",
      "0     0.420  \n",
      "1     0.683  \n",
      "2     0.564  \n",
      "3     0.611  \n",
      "4     0.833  \n",
      "..      ...  \n",
      "525   0.918  \n",
      "526   0.883  \n",
      "527   0.864  \n",
      "528   0.806  \n",
      "529   0.961  \n",
      "\n",
      "[477 rows x 6 columns]\n",
      "[ 4  2 13 15  2 15 15  2 15  4  4  2  4 15  4 15 13  2  4  1  2 13 15  2\n",
      " 15 13  2 15  4 15  2  2  2  2  0  0  0  0  0 15  2  0  0  0  0  0  2 15\n",
      "  2  0  0  0  2  0  2  0  2  0  0  2  0  0  0  5  0  0  2  0  0  2  2  0\n",
      "  0  0  0  0  0  2  0  0  0  0  0 15  0  0  0  0  0  0  0  0  0  2 16  0\n",
      "  2  0  0  0  0  2  2  0  0  0  2  0  0  0  0  0  2  0  0  0 12  2  0  0\n",
      "  0  0  2  0  0  2  9  0  0  0 14  0  0  0  0  0  0  0  2  0  0  0  0  0\n",
      "  0  0  0  0  0  0  0  0  0  0 11  0  0  0  0  0  0  0  2  0  0  0  0  0\n",
      "  0  0  2  0  0  0  0  0  0  0  2  0  0  0  0  0  2  0  0  0  0  2  2  0\n",
      "  0  2  0  0  0  0  0  0  0  0  0  0  0  0 15 15  0  0  2  2  0  2  0  0\n",
      "  0 15  0  2  0  2  0  0  0  0  0  0  0  0  0  0  0 15  0  0  2  0  0  2\n",
      "  2  0  0  2  0  0  0  0  0  1  2  0  0  0  6  0  0  0  0  0  0  0  0  0\n",
      "  0  0 14  0  2  2 15  2  0  0  0  0  2  0  0  0  0  0 15  2  0  2  0  2\n",
      "  0  2  6  0  0  2  2  0  0  0  0  2  0  0  0  0  6  0  2  0  6  6 14  0\n",
      "  0  0  0  2  2  2  0  0  0 17  0  0  0  0  0  0  0  2  2  0  0  0  0  0\n",
      "  2  0  0  0  0  0  0  2  0  0  0  0  0  0  7  0  2  0  0  0  0  0  0  0\n",
      "  2  0  0  0  2  0  0  0  0  0  0  2  0  0  0  0  0  0  0  0  0  0  0  0\n",
      "  0  2  0  2  0  2  0  2  0  0  0  0  3  2  2  0  1  0  0  0  0  0 15 15\n",
      "  2  0 15 15  0  0  0  0  2  0  0  0  0  0  0  0  0  2  2  0  0  0  0  0\n",
      " 15  0  0  0  2  6  0  0  0  2  0  0  0  2  0  0  2  0  0  0  0  6  2  0\n",
      "  0  0  0 10  8  0  0  0  2  0  2  0  6  0  0  0  0  0  0  0  0]\n"
     ]
    },
    {
     "name": "stderr",
     "output_type": "stream",
     "text": [
      "/Users/berkeela/opt/anaconda3/lib/python3.9/site-packages/seaborn/_decorators.py:36: FutureWarning: Pass the following variable as a keyword arg: x. From version 0.12, the only valid positional argument will be `data`, and passing other arguments without an explicit keyword will result in an error or misinterpretation.\n",
      "  warnings.warn(\n"
     ]
    },
    {
     "data": {
      "text/plain": [
       "<AxesSubplot:ylabel='danceability'>"
      ]
     },
     "execution_count": 1,
     "metadata": {},
     "output_type": "execute_result"
    },
    {
     "data": {
      "image/png": "[encoded data removed]",
      "text/plain": [
       "<Figure size 432x288 with 1 Axes>"
      ]
     },
     "metadata": {
      "needs_background": "light"
     },
     "output_type": "display_data"
    }
   ],
   "source": [
    "import seaborn as sns\n",
    "import matplotlib.pyplot as plt\n",
    "import pandas as pd\n",
    "import numpy as np\n",
    "from sklearn import metrics\n",
    "from sklearn.preprocessing import LabelEncoder\n",
    "le = LabelEncoder()\n",
    "\n",
    "\n",
    "df = pd.read_csv(\"../data/nigerian-songs.csv\")\n",
    "df.head()\n",
    "df = df[df['artist_top_genre'] != 'Missing']\n",
    "\n",
    "X = df.loc[:, ('artist_top_genre','popularity','danceability','acousticness','loudness','energy')]\n",
    "\n",
    "y = df['artist_top_genre']\n",
    "\n",
    "X['artist_top_genre'] = le.fit_transform(X['artist_top_genre'])\n",
    "\n",
    "y = le.transform(y)\n",
    "\n",
    "print(X)\n",
    "print(y)\n",
    "sns.scatterplot(y,x=X['popularity'], y= X['danceability'])\n",
    "sns.scatterplot(y,x=X['popularity'], y= X['acousticness'])\n",
    "sns.scatterplot(y,x=X['popularity'], y= X['loudness'])\n",
    "sns.scatterplot(y,x=X['danceability'], y= X['acousticness'])\n",
    "sns.scatterplot(y,x=X['energy'], y= X['danceability'])"
   ]
  },
  {
   "cell_type": "markdown",
   "metadata": {},
   "source": [
    "Scatterplots are the best tool for visualization The Clustering Algorithm. To that, we used scatterplots in this notebook for visualization and due to task we used a different library than matplotlib for visualization of the plots."
   ]
  }
 ],
 "metadata": {
  "kernelspec": {
   "display_name": "Python 3",
   "language": "python",
   "name": "python3"
  },
  "language_info": {
   "codemirror_mode": {
    "name": "ipython",
    "version": 3
   },
   "file_extension": ".py",
   "mimetype": "text/x-python",
   "name": "python",
   "nbconvert_exporter": "python",
   "pygments_lexer": "ipython3",
   "version": "3.9.12"
  },
  "orig_nbformat": 2
 },
 "nbformat": 4,
 "nbformat_minor": 2
}
